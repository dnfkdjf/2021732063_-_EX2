{
  "nbformat": 4,
  "nbformat_minor": 0,
  "metadata": {
    "colab": {
      "provenance": [],
      "history_visible": true
    },
    "kernelspec": {
      "name": "python3",
      "display_name": "Python 3"
    },
    "language_info": {
      "name": "python"
    }
  },
  "cells": [
    {
      "cell_type": "code",
      "execution_count": null,
      "metadata": {
        "id": "wB52-yhmwvQ-"
      },
      "outputs": [],
      "source": [
        "import numpy as np\n",
        "import torch"
      ]
    },
    {
      "cell_type": "markdown",
      "source": [
        "# Numpy와 비슷한 문법"
      ],
      "metadata": {
        "id": "_nsXxdFRzkOG"
      }
    },
    {
      "cell_type": "code",
      "source": [
        "tensor = torch.FloatTensor([1, 2, 3, 4])\n",
        "print(tensor)\n",
        "print(tensor.shape)\n",
        "print(tensor[1:3])"
      ],
      "metadata": {
        "colab": {
          "base_uri": "https://localhost:8080/"
        },
        "id": "tUZrLQCFxPR-",
        "outputId": "b81bf4d5-2cc0-4ebf-f06e-92416d0ff0bc"
      },
      "execution_count": null,
      "outputs": [
        {
          "output_type": "stream",
          "name": "stdout",
          "text": [
            "tensor([1., 2., 3., 4.])\n",
            "torch.Size([4])\n",
            "tensor([2., 3.])\n"
          ]
        }
      ]
    },
    {
      "cell_type": "markdown",
      "source": [
        "# 3차원 이상"
      ],
      "metadata": {
        "id": "hLBWUDvEzn3m"
      }
    },
    {
      "cell_type": "code",
      "source": [
        "tensor3d = torch.FloatTensor([ [[1, 2, 3, 4],\n",
        "                                [5, 6, 7, 8],\n",
        "                                [9, 10, 11, 12]],\n",
        "\n",
        "                               [[13, 14, 15, 16],\n",
        "                                [17, 18, 19, 20],\n",
        "                                [21, 22, 23, 24]] ])\n",
        "print(tensor3d)\n",
        "print(tensor3d.shape)"
      ],
      "metadata": {
        "colab": {
          "base_uri": "https://localhost:8080/"
        },
        "id": "Ccfhpkekzqn-",
        "outputId": "2f63f9cb-40ea-4345-af4d-a776b0fd323b"
      },
      "execution_count": null,
      "outputs": [
        {
          "output_type": "stream",
          "name": "stdout",
          "text": [
            "tensor([[[ 1.,  2.,  3.,  4.],\n",
            "         [ 5.,  6.,  7.,  8.],\n",
            "         [ 9., 10., 11., 12.]],\n",
            "\n",
            "        [[13., 14., 15., 16.],\n",
            "         [17., 18., 19., 20.],\n",
            "         [21., 22., 23., 24.]]])\n",
            "torch.Size([2, 3, 4])\n"
          ]
        }
      ]
    },
    {
      "cell_type": "code",
      "source": [
        "x = torch.FloatTensor([[1, 2], [3, 4]])\n",
        "y = torch.FloatTensor([[5, 6], [7, 8]])\n",
        "print(x)\n",
        "print(y)\n",
        "print(torch.cat([x,y], dim = 0))\n",
        "print(torch.cat([x,y], dim = 1))"
      ],
      "metadata": {
        "colab": {
          "base_uri": "https://localhost:8080/"
        },
        "id": "OIldur1czwpO",
        "outputId": "4f347ce1-a8bf-4449-8210-cfd37503abfc"
      },
      "execution_count": null,
      "outputs": [
        {
          "output_type": "stream",
          "name": "stdout",
          "text": [
            "tensor([[1., 2.],\n",
            "        [3., 4.]])\n",
            "tensor([[5., 6.],\n",
            "        [7., 8.]])\n",
            "tensor([[1., 2.],\n",
            "        [3., 4.],\n",
            "        [5., 6.],\n",
            "        [7., 8.]])\n",
            "tensor([[1., 2., 5., 6.],\n",
            "        [3., 4., 7., 8.]])\n"
          ]
        }
      ]
    },
    {
      "cell_type": "code",
      "source": [
        "print(torch.stack([x,y], dim = 0))\n",
        "print(torch.stack([x,y], dim = 1))"
      ],
      "metadata": {
        "colab": {
          "base_uri": "https://localhost:8080/"
        },
        "id": "sfSU40Auz6I1",
        "outputId": "e2f37ae4-59dd-47b8-cda7-fa6d18f66397"
      },
      "execution_count": null,
      "outputs": [
        {
          "output_type": "stream",
          "name": "stdout",
          "text": [
            "tensor([[[1., 2.],\n",
            "         [3., 4.]],\n",
            "\n",
            "        [[5., 6.],\n",
            "         [7., 8.]]])\n",
            "tensor([[[1., 2.],\n",
            "         [5., 6.]],\n",
            "\n",
            "        [[3., 4.],\n",
            "         [7., 8.]]])\n"
          ]
        }
      ]
    },
    {
      "cell_type": "code",
      "source": [
        "x = torch.rand(2, 3, 4)  # [2, 3, 4]\n",
        "y = x.view(2, -1)  # [2, 12]\n",
        "z = x.reshape(2, -1) # [2, 12]\n",
        "print(x)\n",
        "print(y)\n",
        "print(z)\n",
        "z[0] = 0.0\n",
        "print(x)"
      ],
      "metadata": {
        "colab": {
          "base_uri": "https://localhost:8080/"
        },
        "id": "IxQdrU6Rz_it",
        "outputId": "2fc2925c-a433-4efc-a068-a0015737c482"
      },
      "execution_count": null,
      "outputs": [
        {
          "output_type": "stream",
          "name": "stdout",
          "text": [
            "tensor([[[0.6514, 0.8818, 0.0568, 0.6787],\n",
            "         [0.6489, 0.9406, 0.7575, 0.9120],\n",
            "         [0.2477, 0.1295, 0.9848, 0.3133]],\n",
            "\n",
            "        [[0.8345, 0.2829, 0.6689, 0.5385],\n",
            "         [0.4510, 0.9978, 0.4815, 0.4388],\n",
            "         [0.0056, 0.3200, 0.1640, 0.6820]]])\n",
            "tensor([[0.6514, 0.8818, 0.0568, 0.6787, 0.6489, 0.9406, 0.7575, 0.9120, 0.2477,\n",
            "         0.1295, 0.9848, 0.3133],\n",
            "        [0.8345, 0.2829, 0.6689, 0.5385, 0.4510, 0.9978, 0.4815, 0.4388, 0.0056,\n",
            "         0.3200, 0.1640, 0.6820]])\n",
            "tensor([[0.6514, 0.8818, 0.0568, 0.6787, 0.6489, 0.9406, 0.7575, 0.9120, 0.2477,\n",
            "         0.1295, 0.9848, 0.3133],\n",
            "        [0.8345, 0.2829, 0.6689, 0.5385, 0.4510, 0.9978, 0.4815, 0.4388, 0.0056,\n",
            "         0.3200, 0.1640, 0.6820]])\n",
            "tensor([[[0.0000, 0.0000, 0.0000, 0.0000],\n",
            "         [0.0000, 0.0000, 0.0000, 0.0000],\n",
            "         [0.0000, 0.0000, 0.0000, 0.0000]],\n",
            "\n",
            "        [[0.8345, 0.2829, 0.6689, 0.5385],\n",
            "         [0.4510, 0.9978, 0.4815, 0.4388],\n",
            "         [0.0056, 0.3200, 0.1640, 0.6820]]])\n"
          ]
        }
      ]
    },
    {
      "cell_type": "code",
      "source": [
        "_data = np.array([1,2,3,4])\n",
        "x = torch.from_numpy(_data)\n",
        "print(x)\n",
        "print(x.T)\n",
        "_data = np.array([_data])\n",
        "x = torch.from_numpy(_data)\n",
        "print(x)\n",
        "print(x.T)\n",
        "print(x.T.squeeze())"
      ],
      "metadata": {
        "colab": {
          "base_uri": "https://localhost:8080/"
        },
        "id": "EDsQd33q0Dr9",
        "outputId": "ab0225ef-f239-4d2f-a93c-4f1d3e4d7631"
      },
      "execution_count": null,
      "outputs": [
        {
          "output_type": "stream",
          "name": "stdout",
          "text": [
            "tensor([1, 2, 3, 4])\n",
            "tensor([1, 2, 3, 4])\n",
            "tensor([[1, 2, 3, 4]])\n",
            "tensor([[1],\n",
            "        [2],\n",
            "        [3],\n",
            "        [4]])\n",
            "tensor([1, 2, 3, 4])\n"
          ]
        }
      ]
    },
    {
      "cell_type": "markdown",
      "source": [
        "# 요소별 곱셈"
      ],
      "metadata": {
        "id": "oWpMYK4P0Kil"
      }
    },
    {
      "cell_type": "code",
      "source": [
        "print(tensor)\n",
        "print(tensor3d)\n",
        "print(tensor * tensor3d)"
      ],
      "metadata": {
        "colab": {
          "base_uri": "https://localhost:8080/"
        },
        "id": "8Mop7cOG0Let",
        "outputId": "64af2660-a609-4250-ef4e-0f6624401889"
      },
      "execution_count": null,
      "outputs": [
        {
          "output_type": "stream",
          "name": "stdout",
          "text": [
            "tensor([1., 2., 3., 4.])\n",
            "tensor([[[ 1.,  2.,  3.,  4.],\n",
            "         [ 5.,  6.,  7.,  8.],\n",
            "         [ 9., 10., 11., 12.]],\n",
            "\n",
            "        [[13., 14., 15., 16.],\n",
            "         [17., 18., 19., 20.],\n",
            "         [21., 22., 23., 24.]]])\n",
            "tensor([[[ 1.,  4.,  9., 16.],\n",
            "         [ 5., 12., 21., 32.],\n",
            "         [ 9., 20., 33., 48.]],\n",
            "\n",
            "        [[13., 28., 45., 64.],\n",
            "         [17., 36., 57., 80.],\n",
            "         [21., 44., 69., 96.]]])\n"
          ]
        }
      ]
    },
    {
      "cell_type": "markdown",
      "source": [
        "# 상수 덧셈"
      ],
      "metadata": {
        "id": "iNbPONlg0O1G"
      }
    },
    {
      "cell_type": "code",
      "source": [
        "print(tensor3d + 3)"
      ],
      "metadata": {
        "colab": {
          "base_uri": "https://localhost:8080/"
        },
        "id": "zRCyz9nL0QW1",
        "outputId": "14e2ef19-08c0-48e7-bacf-d1d8dedc2c7e"
      },
      "execution_count": null,
      "outputs": [
        {
          "output_type": "stream",
          "name": "stdout",
          "text": [
            "tensor([[[ 4.,  5.,  6.,  7.],\n",
            "         [ 8.,  9., 10., 11.],\n",
            "         [12., 13., 14., 15.]],\n",
            "\n",
            "        [[16., 17., 18., 19.],\n",
            "         [20., 21., 22., 23.],\n",
            "         [24., 25., 26., 27.]]])\n"
          ]
        }
      ]
    },
    {
      "cell_type": "markdown",
      "source": [
        "# tensor 덧셈"
      ],
      "metadata": {
        "id": "w9XPE5-z0USG"
      }
    },
    {
      "cell_type": "code",
      "source": [
        "tensor_a = torch.FloatTensor([1, 2, 3, 4])\n",
        "tensor_b = torch.FloatTensor([[1], [2], [3]])\n",
        "tensor_c = torch.FloatTensor([[[1]],[[2]]])\n",
        "print(tensor3d)\n",
        "print(tensor3d + tensor_a)\n",
        "print(tensor3d + tensor_b)\n",
        "print(tensor3d + tensor_c)"
      ],
      "metadata": {
        "colab": {
          "base_uri": "https://localhost:8080/"
        },
        "id": "6LrMNS990WNe",
        "outputId": "4a1532a3-96c0-4af4-8abf-69254bbd95e9"
      },
      "execution_count": null,
      "outputs": [
        {
          "output_type": "stream",
          "name": "stdout",
          "text": [
            "tensor([[[ 1.,  2.,  3.,  4.],\n",
            "         [ 5.,  6.,  7.,  8.],\n",
            "         [ 9., 10., 11., 12.]],\n",
            "\n",
            "        [[13., 14., 15., 16.],\n",
            "         [17., 18., 19., 20.],\n",
            "         [21., 22., 23., 24.]]])\n",
            "tensor([[[ 2.,  4.,  6.,  8.],\n",
            "         [ 6.,  8., 10., 12.],\n",
            "         [10., 12., 14., 16.]],\n",
            "\n",
            "        [[14., 16., 18., 20.],\n",
            "         [18., 20., 22., 24.],\n",
            "         [22., 24., 26., 28.]]])\n",
            "tensor([[[ 2.,  3.,  4.,  5.],\n",
            "         [ 7.,  8.,  9., 10.],\n",
            "         [12., 13., 14., 15.]],\n",
            "\n",
            "        [[14., 15., 16., 17.],\n",
            "         [19., 20., 21., 22.],\n",
            "         [24., 25., 26., 27.]]])\n",
            "tensor([[[ 2.,  3.,  4.,  5.],\n",
            "         [ 6.,  7.,  8.,  9.],\n",
            "         [10., 11., 12., 13.]],\n",
            "\n",
            "        [[15., 16., 17., 18.],\n",
            "         [19., 20., 21., 22.],\n",
            "         [23., 24., 25., 26.]]])\n"
          ]
        }
      ]
    },
    {
      "cell_type": "code",
      "source": [
        "print(tensor3d)\n",
        "print(tensor3d.T)"
      ],
      "metadata": {
        "colab": {
          "base_uri": "https://localhost:8080/"
        },
        "id": "bANvC3hu0fiu",
        "outputId": "1c0a375b-3f12-4555-ef11-3eab1523447c"
      },
      "execution_count": null,
      "outputs": [
        {
          "output_type": "stream",
          "name": "stdout",
          "text": [
            "tensor([[[ 1.,  2.,  3.,  4.],\n",
            "         [ 5.,  6.,  7.,  8.],\n",
            "         [ 9., 10., 11., 12.]],\n",
            "\n",
            "        [[13., 14., 15., 16.],\n",
            "         [17., 18., 19., 20.],\n",
            "         [21., 22., 23., 24.]]])\n",
            "tensor([[[ 1., 13.],\n",
            "         [ 5., 17.],\n",
            "         [ 9., 21.]],\n",
            "\n",
            "        [[ 2., 14.],\n",
            "         [ 6., 18.],\n",
            "         [10., 22.]],\n",
            "\n",
            "        [[ 3., 15.],\n",
            "         [ 7., 19.],\n",
            "         [11., 23.]],\n",
            "\n",
            "        [[ 4., 16.],\n",
            "         [ 8., 20.],\n",
            "         [12., 24.]]])\n"
          ]
        }
      ]
    },
    {
      "cell_type": "code",
      "source": [
        "print(tensor3d.matmul(tensor))"
      ],
      "metadata": {
        "colab": {
          "base_uri": "https://localhost:8080/"
        },
        "id": "Icdf4_Pc0h79",
        "outputId": "b2276c88-636e-4dc6-96f8-e8853f26f1e6"
      },
      "execution_count": null,
      "outputs": [
        {
          "output_type": "stream",
          "name": "stdout",
          "text": [
            "tensor([[ 30.,  70., 110.],\n",
            "        [150., 190., 230.]])\n"
          ]
        }
      ]
    },
    {
      "cell_type": "code",
      "source": [
        "print(tensor3d)\n",
        "print(tensor3d.mean())\n",
        "print(tensor3d.shape)\n",
        "print(tensor3d.mean(dim=0))\n",
        "print(tensor3d.mean(dim=1))\n",
        "print(tensor3d.mean(dim=2))"
      ],
      "metadata": {
        "colab": {
          "base_uri": "https://localhost:8080/"
        },
        "id": "aIyXNWQP0-s9",
        "outputId": "46d1a31e-bc99-4f9b-d1d7-0e017617ba4d"
      },
      "execution_count": null,
      "outputs": [
        {
          "output_type": "stream",
          "name": "stdout",
          "text": [
            "tensor([[[ 1.,  2.,  3.,  4.],\n",
            "         [ 5.,  6.,  7.,  8.],\n",
            "         [ 9., 10., 11., 12.]],\n",
            "\n",
            "        [[13., 14., 15., 16.],\n",
            "         [17., 18., 19., 20.],\n",
            "         [21., 22., 23., 24.]]])\n",
            "tensor(12.5000)\n",
            "torch.Size([2, 3, 4])\n",
            "tensor([[ 7.,  8.,  9., 10.],\n",
            "        [11., 12., 13., 14.],\n",
            "        [15., 16., 17., 18.]])\n",
            "tensor([[ 5.,  6.,  7.,  8.],\n",
            "        [17., 18., 19., 20.]])\n",
            "tensor([[ 2.5000,  6.5000, 10.5000],\n",
            "        [14.5000, 18.5000, 22.5000]])\n"
          ]
        }
      ]
    },
    {
      "cell_type": "code",
      "source": [
        "print(tensor3d.sum())\n",
        "print(tensor3d.sum(dim=0))"
      ],
      "metadata": {
        "colab": {
          "base_uri": "https://localhost:8080/"
        },
        "id": "z1dQJcU51A49",
        "outputId": "11493db7-c88b-478e-b8bf-8ec446de2d40"
      },
      "execution_count": null,
      "outputs": [
        {
          "output_type": "stream",
          "name": "stdout",
          "text": [
            "tensor(300.)\n",
            "tensor([[14., 16., 18., 20.],\n",
            "        [22., 24., 26., 28.],\n",
            "        [30., 32., 34., 36.]])\n"
          ]
        }
      ]
    },
    {
      "cell_type": "code",
      "source": [
        "print(tensor3d.max())\n",
        "print(tensor3d.max(dim=1))\n",
        "values, indices = tensor3d.max(dim=1)\n",
        "print(values)"
      ],
      "metadata": {
        "colab": {
          "base_uri": "https://localhost:8080/"
        },
        "id": "rninen_L1C-N",
        "outputId": "c510251d-f9a6-4719-c905-99b14724d786"
      },
      "execution_count": null,
      "outputs": [
        {
          "output_type": "stream",
          "name": "stdout",
          "text": [
            "tensor(24.)\n",
            "torch.return_types.max(\n",
            "values=tensor([[ 9., 10., 11., 12.],\n",
            "        [21., 22., 23., 24.]]),\n",
            "indices=tensor([[2, 2, 2, 2],\n",
            "        [2, 2, 2, 2]]))\n",
            "tensor([[ 9., 10., 11., 12.],\n",
            "        [21., 22., 23., 24.]])\n"
          ]
        }
      ]
    },
    {
      "cell_type": "code",
      "source": [
        "tensor_square = torch.FloatTensor([[1, 7], [-4, 6]])\n",
        "print(torch.inverse(tensor_square))"
      ],
      "metadata": {
        "colab": {
          "base_uri": "https://localhost:8080/"
        },
        "id": "ZQDdsjWT1FWF",
        "outputId": "89d09165-73cd-40c7-876c-e385cb0ed586"
      },
      "execution_count": null,
      "outputs": [
        {
          "output_type": "stream",
          "name": "stdout",
          "text": [
            "tensor([[ 0.1765, -0.2059],\n",
            "        [ 0.1176,  0.0294]])\n"
          ]
        }
      ]
    },
    {
      "cell_type": "markdown",
      "source": [
        "#실습과제"
      ],
      "metadata": {
        "id": "arSkzoyt1389"
      }
    },
    {
      "cell_type": "code",
      "source": [
        "A = torch.tensor([[0, 1], [1, 1], [2, 1], [3, 1]], dtype=torch.float32)\n",
        "B = torch.tensor([[-1], [0.2], [0.9], [2.1]], dtype=torch.float32)\n",
        "\n",
        "# Pseudo Inverse Matrix 이용한 해 구하기\n",
        "A_pseudo_inverse = torch.linalg.pinv(A)  # 의사 역행렬\n",
        "x = torch.mm(A_pseudo_inverse, B)\n",
        "\n",
        "print(\"해 x:\")\n",
        "print(x)"
      ],
      "metadata": {
        "colab": {
          "base_uri": "https://localhost:8080/"
        },
        "id": "z75JdU9u1aT1",
        "outputId": "e9c63545-f6fb-4458-95e6-6fdbebd17f7f"
      },
      "execution_count": null,
      "outputs": [
        {
          "output_type": "stream",
          "name": "stdout",
          "text": [
            "해 x:\n",
            "tensor([[ 1.0000],\n",
            "        [-0.9500]])\n"
          ]
        }
      ]
    }
  ]
}