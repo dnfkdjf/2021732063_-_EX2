{
  "nbformat": 4,
  "nbformat_minor": 0,
  "metadata": {
    "colab": {
      "provenance": [],
      "history_visible": true,
      "authorship_tag": "ABX9TyOYtDzLEsJDnipWvd78D5wp",
      "include_colab_link": true
    },
    "kernelspec": {
      "name": "python3",
      "display_name": "Python 3"
    },
    "language_info": {
      "name": "python"
    }
  },
  "cells": [
    {
      "cell_type": "markdown",
      "metadata": {
        "id": "view-in-github",
        "colab_type": "text"
      },
      "source": [
        "<a href=\"https://colab.research.google.com/github/dnfkdjf/2021732063_-_EX2/blob/main/%EC%98%88%EB%B9%84%EB%B3%B4%EA%B3%A0%EC%84%9C_2.ipynb\" target=\"_parent\"><img src=\"https://colab.research.google.com/assets/colab-badge.svg\" alt=\"Open In Colab\"/></a>"
      ]
    },
    {
      "cell_type": "code",
      "execution_count": 1,
      "metadata": {
        "id": "wB52-yhmwvQ-"
      },
      "outputs": [],
      "source": [
        "import numpy as np\n",
        "import torch"
      ]
    },
    {
      "cell_type": "markdown",
      "source": [
        "# Numpy와 비슷한 문법"
      ],
      "metadata": {
        "id": "_nsXxdFRzkOG"
      }
    },
    {
      "cell_type": "code",
      "source": [
        "tensor = torch.FloatTensor([1, 2, 3, 4])\n",
        "print(tensor)\n",
        "print(tensor.shape)\n",
        "print(tensor[1:3])"
      ],
      "metadata": {
        "colab": {
          "base_uri": "https://localhost:8080/"
        },
        "id": "tUZrLQCFxPR-",
        "outputId": "3dba7983-8ee9-47d6-f2b9-0b093e2deb96"
      },
      "execution_count": 2,
      "outputs": [
        {
          "output_type": "stream",
          "name": "stdout",
          "text": [
            "tensor([1., 2., 3., 4.])\n",
            "torch.Size([4])\n",
            "tensor([2., 3.])\n"
          ]
        }
      ]
    },
    {
      "cell_type": "markdown",
      "source": [
        "# 3차원 이상"
      ],
      "metadata": {
        "id": "hLBWUDvEzn3m"
      }
    },
    {
      "cell_type": "code",
      "source": [
        "tensor3d = torch.FloatTensor([ [[1, 2, 3, 4],\n",
        "                                [5, 6, 7, 8],\n",
        "                                [9, 10, 11, 12]],\n",
        "\n",
        "                               [[13, 14, 15, 16],\n",
        "                                [17, 18, 19, 20],\n",
        "                                [21, 22, 23, 24]] ])\n",
        "print(tensor3d)\n",
        "print(tensor3d.shape)"
      ],
      "metadata": {
        "colab": {
          "base_uri": "https://localhost:8080/"
        },
        "id": "Ccfhpkekzqn-",
        "outputId": "4a9fcf8c-f138-414d-9e99-2e2808196fde"
      },
      "execution_count": 3,
      "outputs": [
        {
          "output_type": "stream",
          "name": "stdout",
          "text": [
            "tensor([[[ 1.,  2.,  3.,  4.],\n",
            "         [ 5.,  6.,  7.,  8.],\n",
            "         [ 9., 10., 11., 12.]],\n",
            "\n",
            "        [[13., 14., 15., 16.],\n",
            "         [17., 18., 19., 20.],\n",
            "         [21., 22., 23., 24.]]])\n",
            "torch.Size([2, 3, 4])\n"
          ]
        }
      ]
    },
    {
      "cell_type": "code",
      "source": [
        "x = torch.FloatTensor([[1, 2], [3, 4]])\n",
        "y = torch.FloatTensor([[5, 6], [7, 8]])\n",
        "print(x)\n",
        "print(y)\n",
        "print(torch.cat([x,y], dim = 0))\n",
        "print(torch.cat([x,y], dim = 1))"
      ],
      "metadata": {
        "colab": {
          "base_uri": "https://localhost:8080/"
        },
        "id": "OIldur1czwpO",
        "outputId": "8c6cfd83-f1f6-4284-ff35-6470d1cb6e24"
      },
      "execution_count": 4,
      "outputs": [
        {
          "output_type": "stream",
          "name": "stdout",
          "text": [
            "tensor([[1., 2.],\n",
            "        [3., 4.]])\n",
            "tensor([[5., 6.],\n",
            "        [7., 8.]])\n",
            "tensor([[1., 2.],\n",
            "        [3., 4.],\n",
            "        [5., 6.],\n",
            "        [7., 8.]])\n",
            "tensor([[1., 2., 5., 6.],\n",
            "        [3., 4., 7., 8.]])\n"
          ]
        }
      ]
    },
    {
      "cell_type": "code",
      "source": [
        "print(torch.stack([x,y], dim = 0))\n",
        "print(torch.stack([x,y], dim = 1))"
      ],
      "metadata": {
        "colab": {
          "base_uri": "https://localhost:8080/"
        },
        "id": "sfSU40Auz6I1",
        "outputId": "025a77cd-a941-4ee9-a66b-224bbc440b53"
      },
      "execution_count": 5,
      "outputs": [
        {
          "output_type": "stream",
          "name": "stdout",
          "text": [
            "tensor([[[1., 2.],\n",
            "         [3., 4.]],\n",
            "\n",
            "        [[5., 6.],\n",
            "         [7., 8.]]])\n",
            "tensor([[[1., 2.],\n",
            "         [5., 6.]],\n",
            "\n",
            "        [[3., 4.],\n",
            "         [7., 8.]]])\n"
          ]
        }
      ]
    },
    {
      "cell_type": "code",
      "source": [
        "x = torch.rand(2, 3, 4)  # [2, 3, 4]\n",
        "y = x.view(2, -1)  # [2, 12]\n",
        "z = x.reshape(2, -1) # [2, 12]\n",
        "print(x)\n",
        "print(y)\n",
        "print(z)\n",
        "z[0] = 0.0\n",
        "print(x)"
      ],
      "metadata": {
        "colab": {
          "base_uri": "https://localhost:8080/"
        },
        "id": "IxQdrU6Rz_it",
        "outputId": "0315094d-1de1-4327-a39c-011fdc4c7828"
      },
      "execution_count": 6,
      "outputs": [
        {
          "output_type": "stream",
          "name": "stdout",
          "text": [
            "tensor([[[0.9888, 0.5198, 0.7747, 0.8959],\n",
            "         [0.6002, 0.7149, 0.5052, 0.5066],\n",
            "         [0.1205, 0.1069, 0.1080, 0.7788]],\n",
            "\n",
            "        [[0.2630, 0.8734, 0.2271, 0.8421],\n",
            "         [0.0237, 0.9033, 0.4192, 0.1402],\n",
            "         [0.0339, 0.1150, 0.9479, 0.8528]]])\n",
            "tensor([[0.9888, 0.5198, 0.7747, 0.8959, 0.6002, 0.7149, 0.5052, 0.5066, 0.1205,\n",
            "         0.1069, 0.1080, 0.7788],\n",
            "        [0.2630, 0.8734, 0.2271, 0.8421, 0.0237, 0.9033, 0.4192, 0.1402, 0.0339,\n",
            "         0.1150, 0.9479, 0.8528]])\n",
            "tensor([[0.9888, 0.5198, 0.7747, 0.8959, 0.6002, 0.7149, 0.5052, 0.5066, 0.1205,\n",
            "         0.1069, 0.1080, 0.7788],\n",
            "        [0.2630, 0.8734, 0.2271, 0.8421, 0.0237, 0.9033, 0.4192, 0.1402, 0.0339,\n",
            "         0.1150, 0.9479, 0.8528]])\n",
            "tensor([[[0.0000, 0.0000, 0.0000, 0.0000],\n",
            "         [0.0000, 0.0000, 0.0000, 0.0000],\n",
            "         [0.0000, 0.0000, 0.0000, 0.0000]],\n",
            "\n",
            "        [[0.2630, 0.8734, 0.2271, 0.8421],\n",
            "         [0.0237, 0.9033, 0.4192, 0.1402],\n",
            "         [0.0339, 0.1150, 0.9479, 0.8528]]])\n"
          ]
        }
      ]
    },
    {
      "cell_type": "code",
      "source": [
        "_data = np.array([1,2,3,4])\n",
        "x = torch.from_numpy(_data)\n",
        "print(x)\n",
        "print(x.T)\n",
        "_data = np.array([_data])\n",
        "x = torch.from_numpy(_data)\n",
        "print(x)\n",
        "print(x.T)\n",
        "print(x.T.squeeze())"
      ],
      "metadata": {
        "colab": {
          "base_uri": "https://localhost:8080/"
        },
        "id": "EDsQd33q0Dr9",
        "outputId": "a51b3249-e26e-4a4b-98ca-701e84b13fd2"
      },
      "execution_count": 7,
      "outputs": [
        {
          "output_type": "stream",
          "name": "stdout",
          "text": [
            "tensor([1, 2, 3, 4])\n",
            "tensor([1, 2, 3, 4])\n",
            "tensor([[1, 2, 3, 4]])\n",
            "tensor([[1],\n",
            "        [2],\n",
            "        [3],\n",
            "        [4]])\n",
            "tensor([1, 2, 3, 4])\n"
          ]
        },
        {
          "output_type": "stream",
          "name": "stderr",
          "text": [
            "<ipython-input-7-58d6b7bb97eb>:4: UserWarning: The use of `x.T` on tensors of dimension other than 2 to reverse their shape is deprecated and it will throw an error in a future release. Consider `x.mT` to transpose batches of matrices or `x.permute(*torch.arange(x.ndim - 1, -1, -1))` to reverse the dimensions of a tensor. (Triggered internally at /pytorch/aten/src/ATen/native/TensorShape.cpp:3725.)\n",
            "  print(x.T)\n"
          ]
        }
      ]
    },
    {
      "cell_type": "markdown",
      "source": [
        "# 요소별 곱셈"
      ],
      "metadata": {
        "id": "oWpMYK4P0Kil"
      }
    },
    {
      "cell_type": "code",
      "source": [
        "print(tensor)\n",
        "print(tensor3d)\n",
        "print(tensor * tensor3d)"
      ],
      "metadata": {
        "colab": {
          "base_uri": "https://localhost:8080/"
        },
        "id": "8Mop7cOG0Let",
        "outputId": "e99e049c-9ecb-4660-9a9c-f22926472436"
      },
      "execution_count": 8,
      "outputs": [
        {
          "output_type": "stream",
          "name": "stdout",
          "text": [
            "tensor([1., 2., 3., 4.])\n",
            "tensor([[[ 1.,  2.,  3.,  4.],\n",
            "         [ 5.,  6.,  7.,  8.],\n",
            "         [ 9., 10., 11., 12.]],\n",
            "\n",
            "        [[13., 14., 15., 16.],\n",
            "         [17., 18., 19., 20.],\n",
            "         [21., 22., 23., 24.]]])\n",
            "tensor([[[ 1.,  4.,  9., 16.],\n",
            "         [ 5., 12., 21., 32.],\n",
            "         [ 9., 20., 33., 48.]],\n",
            "\n",
            "        [[13., 28., 45., 64.],\n",
            "         [17., 36., 57., 80.],\n",
            "         [21., 44., 69., 96.]]])\n"
          ]
        }
      ]
    },
    {
      "cell_type": "markdown",
      "source": [
        "# 상수 덧셈"
      ],
      "metadata": {
        "id": "iNbPONlg0O1G"
      }
    },
    {
      "cell_type": "code",
      "source": [
        "print(tensor3d + 3)"
      ],
      "metadata": {
        "colab": {
          "base_uri": "https://localhost:8080/"
        },
        "id": "zRCyz9nL0QW1",
        "outputId": "16aa7c87-b052-44e3-cf34-3327b023a910"
      },
      "execution_count": 9,
      "outputs": [
        {
          "output_type": "stream",
          "name": "stdout",
          "text": [
            "tensor([[[ 4.,  5.,  6.,  7.],\n",
            "         [ 8.,  9., 10., 11.],\n",
            "         [12., 13., 14., 15.]],\n",
            "\n",
            "        [[16., 17., 18., 19.],\n",
            "         [20., 21., 22., 23.],\n",
            "         [24., 25., 26., 27.]]])\n"
          ]
        }
      ]
    },
    {
      "cell_type": "markdown",
      "source": [
        "# tensor 덧셈"
      ],
      "metadata": {
        "id": "w9XPE5-z0USG"
      }
    },
    {
      "cell_type": "code",
      "source": [
        "tensor_a = torch.FloatTensor([1, 2, 3, 4])\n",
        "tensor_b = torch.FloatTensor([[1], [2], [3]])\n",
        "tensor_c = torch.FloatTensor([[[1]],[[2]]])\n",
        "print(tensor3d)\n",
        "print(tensor3d + tensor_a)\n",
        "print(tensor3d + tensor_b)\n",
        "print(tensor3d + tensor_c)"
      ],
      "metadata": {
        "colab": {
          "base_uri": "https://localhost:8080/"
        },
        "id": "6LrMNS990WNe",
        "outputId": "e16f176e-e41e-49fd-9919-d2efc57537d7"
      },
      "execution_count": 10,
      "outputs": [
        {
          "output_type": "stream",
          "name": "stdout",
          "text": [
            "tensor([[[ 1.,  2.,  3.,  4.],\n",
            "         [ 5.,  6.,  7.,  8.],\n",
            "         [ 9., 10., 11., 12.]],\n",
            "\n",
            "        [[13., 14., 15., 16.],\n",
            "         [17., 18., 19., 20.],\n",
            "         [21., 22., 23., 24.]]])\n",
            "tensor([[[ 2.,  4.,  6.,  8.],\n",
            "         [ 6.,  8., 10., 12.],\n",
            "         [10., 12., 14., 16.]],\n",
            "\n",
            "        [[14., 16., 18., 20.],\n",
            "         [18., 20., 22., 24.],\n",
            "         [22., 24., 26., 28.]]])\n",
            "tensor([[[ 2.,  3.,  4.,  5.],\n",
            "         [ 7.,  8.,  9., 10.],\n",
            "         [12., 13., 14., 15.]],\n",
            "\n",
            "        [[14., 15., 16., 17.],\n",
            "         [19., 20., 21., 22.],\n",
            "         [24., 25., 26., 27.]]])\n",
            "tensor([[[ 2.,  3.,  4.,  5.],\n",
            "         [ 6.,  7.,  8.,  9.],\n",
            "         [10., 11., 12., 13.]],\n",
            "\n",
            "        [[15., 16., 17., 18.],\n",
            "         [19., 20., 21., 22.],\n",
            "         [23., 24., 25., 26.]]])\n"
          ]
        }
      ]
    },
    {
      "cell_type": "code",
      "source": [
        "print(tensor3d)\n",
        "print(tensor3d.T)"
      ],
      "metadata": {
        "colab": {
          "base_uri": "https://localhost:8080/"
        },
        "id": "bANvC3hu0fiu",
        "outputId": "74062519-1556-4554-b141-21ca81fc4931"
      },
      "execution_count": 11,
      "outputs": [
        {
          "output_type": "stream",
          "name": "stdout",
          "text": [
            "tensor([[[ 1.,  2.,  3.,  4.],\n",
            "         [ 5.,  6.,  7.,  8.],\n",
            "         [ 9., 10., 11., 12.]],\n",
            "\n",
            "        [[13., 14., 15., 16.],\n",
            "         [17., 18., 19., 20.],\n",
            "         [21., 22., 23., 24.]]])\n",
            "tensor([[[ 1., 13.],\n",
            "         [ 5., 17.],\n",
            "         [ 9., 21.]],\n",
            "\n",
            "        [[ 2., 14.],\n",
            "         [ 6., 18.],\n",
            "         [10., 22.]],\n",
            "\n",
            "        [[ 3., 15.],\n",
            "         [ 7., 19.],\n",
            "         [11., 23.]],\n",
            "\n",
            "        [[ 4., 16.],\n",
            "         [ 8., 20.],\n",
            "         [12., 24.]]])\n"
          ]
        }
      ]
    },
    {
      "cell_type": "code",
      "source": [
        "print(tensor3d.matmul(tensor))"
      ],
      "metadata": {
        "colab": {
          "base_uri": "https://localhost:8080/"
        },
        "id": "Icdf4_Pc0h79",
        "outputId": "82531b0f-5d89-4d37-ff47-32db9526404e"
      },
      "execution_count": 12,
      "outputs": [
        {
          "output_type": "stream",
          "name": "stdout",
          "text": [
            "tensor([[ 30.,  70., 110.],\n",
            "        [150., 190., 230.]])\n"
          ]
        }
      ]
    },
    {
      "cell_type": "code",
      "source": [
        "print(tensor3d)\n",
        "print(tensor3d.mean())\n",
        "print(tensor3d.shape)\n",
        "print(tensor3d.mean(dim=0))\n",
        "print(tensor3d.mean(dim=1))\n",
        "print(tensor3d.mean(dim=2))"
      ],
      "metadata": {
        "colab": {
          "base_uri": "https://localhost:8080/"
        },
        "id": "aIyXNWQP0-s9",
        "outputId": "4de29df5-29ab-447e-a059-789ec2486c04"
      },
      "execution_count": 13,
      "outputs": [
        {
          "output_type": "stream",
          "name": "stdout",
          "text": [
            "tensor([[[ 1.,  2.,  3.,  4.],\n",
            "         [ 5.,  6.,  7.,  8.],\n",
            "         [ 9., 10., 11., 12.]],\n",
            "\n",
            "        [[13., 14., 15., 16.],\n",
            "         [17., 18., 19., 20.],\n",
            "         [21., 22., 23., 24.]]])\n",
            "tensor(12.5000)\n",
            "torch.Size([2, 3, 4])\n",
            "tensor([[ 7.,  8.,  9., 10.],\n",
            "        [11., 12., 13., 14.],\n",
            "        [15., 16., 17., 18.]])\n",
            "tensor([[ 5.,  6.,  7.,  8.],\n",
            "        [17., 18., 19., 20.]])\n",
            "tensor([[ 2.5000,  6.5000, 10.5000],\n",
            "        [14.5000, 18.5000, 22.5000]])\n"
          ]
        }
      ]
    },
    {
      "cell_type": "code",
      "source": [
        "print(tensor3d.sum())\n",
        "print(tensor3d.sum(dim=0))"
      ],
      "metadata": {
        "colab": {
          "base_uri": "https://localhost:8080/"
        },
        "id": "z1dQJcU51A49",
        "outputId": "6fbfa6b3-a3e9-42ea-8ca0-39b6796e7d04"
      },
      "execution_count": 14,
      "outputs": [
        {
          "output_type": "stream",
          "name": "stdout",
          "text": [
            "tensor(300.)\n",
            "tensor([[14., 16., 18., 20.],\n",
            "        [22., 24., 26., 28.],\n",
            "        [30., 32., 34., 36.]])\n"
          ]
        }
      ]
    },
    {
      "cell_type": "code",
      "source": [
        "print(tensor3d.max())\n",
        "print(tensor3d.max(dim=1))\n",
        "values, indices = tensor3d.max(dim=1)\n",
        "print(values)"
      ],
      "metadata": {
        "colab": {
          "base_uri": "https://localhost:8080/"
        },
        "id": "rninen_L1C-N",
        "outputId": "27ad8ed1-362e-4b7d-d9c2-7b612565cc50"
      },
      "execution_count": 15,
      "outputs": [
        {
          "output_type": "stream",
          "name": "stdout",
          "text": [
            "tensor(24.)\n",
            "torch.return_types.max(\n",
            "values=tensor([[ 9., 10., 11., 12.],\n",
            "        [21., 22., 23., 24.]]),\n",
            "indices=tensor([[2, 2, 2, 2],\n",
            "        [2, 2, 2, 2]]))\n",
            "tensor([[ 9., 10., 11., 12.],\n",
            "        [21., 22., 23., 24.]])\n"
          ]
        }
      ]
    },
    {
      "cell_type": "code",
      "source": [
        "tensor_square = torch.FloatTensor([[1, 7], [-4, 6]])\n",
        "print(torch.inverse(tensor_square))"
      ],
      "metadata": {
        "colab": {
          "base_uri": "https://localhost:8080/"
        },
        "id": "ZQDdsjWT1FWF",
        "outputId": "5b6fc450-aff6-4032-ed2a-293861ccc786"
      },
      "execution_count": 16,
      "outputs": [
        {
          "output_type": "stream",
          "name": "stdout",
          "text": [
            "tensor([[ 0.1765, -0.2059],\n",
            "        [ 0.1176,  0.0294]])\n"
          ]
        }
      ]
    },
    {
      "cell_type": "markdown",
      "source": [
        "#실습과제"
      ],
      "metadata": {
        "id": "arSkzoyt1389"
      }
    },
    {
      "cell_type": "code",
      "source": [
        "A = torch.tensor([[0, 1], [1, 1], [2, 1], [3, 1]], dtype=torch.float32)\n",
        "B = torch.tensor([[-1], [0.2], [0.9], [2.1]], dtype=torch.float32)\n",
        "\n",
        "# Pseudo Inverse Matrix 이용한 해 구하기\n",
        "A_pseudo_inverse = torch.linalg.pinv(A)  # 의사 역행렬\n",
        "x = torch.mm(A_pseudo_inverse, B)\n",
        "\n",
        "print(\"해 x:\")\n",
        "print(x)"
      ],
      "metadata": {
        "colab": {
          "base_uri": "https://localhost:8080/"
        },
        "id": "z75JdU9u1aT1",
        "outputId": "dcf1d116-a925-4ff1-c247-4280457a031c"
      },
      "execution_count": 17,
      "outputs": [
        {
          "output_type": "stream",
          "name": "stdout",
          "text": [
            "해 x:\n",
            "tensor([[ 1.0000],\n",
            "        [-0.9500]])\n"
          ]
        }
      ]
    }
  ]
}